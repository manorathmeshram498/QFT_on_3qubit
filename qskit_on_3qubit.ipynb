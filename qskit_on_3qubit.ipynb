{
  "nbformat": 4,
  "nbformat_minor": 0,
  "metadata": {
    "colab": {
      "name": "qskit_on_3qubit.ipynb",
      "provenance": [],
      "authorship_tag": "ABX9TyNkkUZneZkGYT8OVyImWm94",
      "include_colab_link": true
    },
    "kernelspec": {
      "name": "python3",
      "display_name": "Python 3"
    },
    "language_info": {
      "name": "python"
    }
  },
  "cells": [
    {
      "cell_type": "markdown",
      "metadata": {
        "id": "view-in-github",
        "colab_type": "text"
      },
      "source": [
        
      ]
    },
    {
      "cell_type": "code",
      "metadata": {
        "id": "sk2sYIl5PDOk"
      },
      "source": [
        "import numpy as np\n",
        "from numpy import pi\n",
        "# importing Qiskit\n",
        "from qiskit import QuantumCircuit, transpile, assemble, Aer, IBMQ\n",
        "from qiskit.providers.ibmq import least_busy\n",
        "from qiskit.tools.monitor import job_monitor\n",
        "from qiskit.visualization import plot_histogram, plot_bloch_multivector"
      ],
      "execution_count": null,
      "outputs": []
    },
    {
      "cell_type": "code",
      "metadata": {
        "id": "pfTAg0MKPGtu"
      },
      "source": [
        "qc = QuantumCircuit(3)"
      ],
      "execution_count": null,
      "outputs": []
    },
    {
      "cell_type": "code",
      "metadata": {
        "id": "pEVuQGclPQyw"
      },
      "source": [
        "qc.cp(pi/2, 1, 2) # CROT from qubit 1 to qubit 2\n",
        "qc.draw()"
      ],
      "execution_count": null,
      "outputs": []
    },
    {
      "cell_type": "code",
      "metadata": {
        "id": "BzQq-XfVPX1i"
      },
      "source": [
        "qc.cp(pi/4, 0, 2) # CROT from qubit 2 to qubit 0\n",
        "qc.draw()"
      ],
      "execution_count": null,
      "outputs": []
    },
    {
      "cell_type": "code",
      "metadata": {
        "id": "Njap9wa2Pc3t"
      },
      "source": [
        "qc.h(1)\n",
        "qc.cp(pi/2, 0, 1) # CROT from qubit 0 to qubit 1\n",
        "qc.h(0)\n",
        "qc.draw()"
      ],
      "execution_count": null,
      "outputs": []
    },
    {
      "cell_type": "code",
      "metadata": {
        "id": "l2q_UiwMPfoz"
      },
      "source": [
        "qc.swap(0,2)\n",
        "qc.draw()"
      ],
      "execution_count": null,
      "outputs": []
    },
    {
      "cell_type": "code",
      "metadata": {
        "id": "mNGUVnMVPipV"
      },
      "source": [
        ""
      ],
      "execution_count": null,
      "outputs": []
    }
  ]
}
